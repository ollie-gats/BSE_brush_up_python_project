{
  "cells": [
    {
      "cell_type": "markdown",
      "metadata": {
        "id": "view-in-github",
        "colab_type": "text"
      },
      "source": [
        "<a href=\"https://colab.research.google.com/github/ollie-gats/BSE_brush_up_python_project/blob/main/1_Exploratory_Data_Analysis_CLASS.ipynb\" target=\"_parent\"><img src=\"https://colab.research.google.com/assets/colab-badge.svg\" alt=\"Open In Colab\"/></a>"
      ]
    },
    {
      "cell_type": "markdown",
      "id": "40d2426a",
      "metadata": {
        "id": "40d2426a"
      },
      "source": [
        "# 1. Exploratory Data Analysis (EDA)\n",
        "\n",
        "Exploratory Data Analysis (EDA) is the initial and crucial step in the data analysis process. It involves examining and understanding the structure, patterns, and characteristics of the data through various statistical and visualization techniques. The primary goal of EDA is to gain insights, discover patterns, identify outliers, and formulate hypotheses that can guide further analysis and modeling.\n",
        "<br> <br>\n",
        "Exploratory Data Analysis (EDA) refers to the **process of summarizing, visualizing, and examining data sets to uncover patterns, trends, relationships, and potential issues**. It involves using statistical and visualization techniques to explore the data's distribution, central tendency, variability, and relationships among variables. EDA provides a comprehensive understanding of the data, enabling researchers to generate hypotheses, identify data quality problems, and make informed decisions about subsequent analysis steps.\n",
        "\n",
        "## Why EDA is important\n",
        "\n",
        "* **Data Understanding:** EDA helps in comprehending the data at hand. It provides insights into the data's structure, formats, and values, allowing researchers to understand the variables, their types, and potential relationships. This understanding is crucial for making informed decisions about data cleaning, preprocessing, and modeling.\n",
        "\n",
        "* **Identifying Data Quality Issues:** EDA helps identify missing values, outliers, inconsistencies, and errors in the data. By visualizing and analyzing the data, you can detect anomalies or unusual patterns that may require further investigation or data cleaning. Addressing data quality issues early on ensures reliable and accurate analysis results.\n",
        "\n",
        "* **Feature Selection and Engineering:** EDA aids in selecting relevant features or variables for analysis. By exploring the relationships between variables, you can identify the most influential or discriminative features. EDA can also inspire the creation of new derived features that capture valuable information from the existing ones, improving the performance of predictive models.\n",
        "\n",
        "* **Pattern and Relationship Discovery:** EDA techniques allow you to uncover hidden patterns, trends, and relationships within the data. Visualizations such as histograms, scatter plots, and correlation matrices provide insights into the data's distribution, dependencies, and associations. These discoveries can guide further analysis, hypothesis formulation, and model selection.\n",
        "\n",
        "* **Assumption Checking:** EDA helps verify assumptions made for statistical techniques. By examining the data's distributional properties, independence assumptions, and other assumptions specific to analysis techniques, you can ensure the validity of the chosen methods and make appropriate adjustments if necessary.\n",
        "\n",
        "* **Communication and Reporting:** EDA facilitates effective communication of findings to stakeholders. Visualizations and summaries generated during EDA help present insights and patterns in a clear and understandable manner. This enables stakeholders to grasp key information and make data-driven decisions.\n",
        "\n",
        "## Most used analysis:\n",
        "\n",
        "Let's start by creating a sample dataset using the Pandas library and let's perform some basic exploratory analysis on this dataset."
      ]
    },
    {
      "cell_type": "code",
      "execution_count": null,
      "id": "342164d3",
      "metadata": {
        "id": "342164d3",
        "colab": {
          "base_uri": "https://localhost:8080/",
          "height": 677
        },
        "outputId": "7996a8d6-490e-477b-8257-2e26959eae31"
      },
      "outputs": [
        {
          "output_type": "execute_result",
          "data": {
            "text/plain": [
              "    lastname  age  gender       city  salary  income\n",
              "0   Thompson   19  Female     Sydney   28345  142546\n",
              "1   Sullivan   76  Female  Barcelona    3966   59164\n",
              "2      Jones   35    Male  Barcelona    7518   27428\n",
              "3      Jones   41    Male      Paris   28769  156367\n",
              "4   Williams   48    Male      Paris   13292   58500\n",
              "5      Brown   78  Female      Tokyo   19319  122867\n",
              "6      Smith   34  Female      Tokyo   45903  222718\n",
              "7   Thompson   58    Male     London   12844  136904\n",
              "8      Smith   69  Female  Barcelona   37795  150488\n",
              "9      Smith   20    Male      Tokyo   43525  184605\n",
              "10  Williams   47  Female      Paris   31879  137981\n",
              "11  Williams   25    Male     Sydney   12659   28928\n",
              "12  Sullivan   34  Female  Barcelona   49455  217958\n",
              "13     Jones   77  Female     Sydney   19093  102469\n",
              "14  Thompson   29    Male   New York   43743  206686\n",
              "15     Brown   39    Male   New York    8213  110370\n",
              "16  Thompson   63    Male   New York   16213   58615\n",
              "17  Sullivan   67    Male     Sydney   23862  128299\n",
              "18  Williams   55    Male      Tokyo   11722   31278\n",
              "19     Jones   30  Female     London   44226  239107"
            ],
            "text/html": [
              "\n",
              "  <div id=\"df-1313682f-49f8-4d49-b525-42f7da63a179\" class=\"colab-df-container\">\n",
              "    <div>\n",
              "<style scoped>\n",
              "    .dataframe tbody tr th:only-of-type {\n",
              "        vertical-align: middle;\n",
              "    }\n",
              "\n",
              "    .dataframe tbody tr th {\n",
              "        vertical-align: top;\n",
              "    }\n",
              "\n",
              "    .dataframe thead th {\n",
              "        text-align: right;\n",
              "    }\n",
              "</style>\n",
              "<table border=\"1\" class=\"dataframe\">\n",
              "  <thead>\n",
              "    <tr style=\"text-align: right;\">\n",
              "      <th></th>\n",
              "      <th>lastname</th>\n",
              "      <th>age</th>\n",
              "      <th>gender</th>\n",
              "      <th>city</th>\n",
              "      <th>salary</th>\n",
              "      <th>income</th>\n",
              "    </tr>\n",
              "  </thead>\n",
              "  <tbody>\n",
              "    <tr>\n",
              "      <th>0</th>\n",
              "      <td>Thompson</td>\n",
              "      <td>19</td>\n",
              "      <td>Female</td>\n",
              "      <td>Sydney</td>\n",
              "      <td>28345</td>\n",
              "      <td>142546</td>\n",
              "    </tr>\n",
              "    <tr>\n",
              "      <th>1</th>\n",
              "      <td>Sullivan</td>\n",
              "      <td>76</td>\n",
              "      <td>Female</td>\n",
              "      <td>Barcelona</td>\n",
              "      <td>3966</td>\n",
              "      <td>59164</td>\n",
              "    </tr>\n",
              "    <tr>\n",
              "      <th>2</th>\n",
              "      <td>Jones</td>\n",
              "      <td>35</td>\n",
              "      <td>Male</td>\n",
              "      <td>Barcelona</td>\n",
              "      <td>7518</td>\n",
              "      <td>27428</td>\n",
              "    </tr>\n",
              "    <tr>\n",
              "      <th>3</th>\n",
              "      <td>Jones</td>\n",
              "      <td>41</td>\n",
              "      <td>Male</td>\n",
              "      <td>Paris</td>\n",
              "      <td>28769</td>\n",
              "      <td>156367</td>\n",
              "    </tr>\n",
              "    <tr>\n",
              "      <th>4</th>\n",
              "      <td>Williams</td>\n",
              "      <td>48</td>\n",
              "      <td>Male</td>\n",
              "      <td>Paris</td>\n",
              "      <td>13292</td>\n",
              "      <td>58500</td>\n",
              "    </tr>\n",
              "    <tr>\n",
              "      <th>5</th>\n",
              "      <td>Brown</td>\n",
              "      <td>78</td>\n",
              "      <td>Female</td>\n",
              "      <td>Tokyo</td>\n",
              "      <td>19319</td>\n",
              "      <td>122867</td>\n",
              "    </tr>\n",
              "    <tr>\n",
              "      <th>6</th>\n",
              "      <td>Smith</td>\n",
              "      <td>34</td>\n",
              "      <td>Female</td>\n",
              "      <td>Tokyo</td>\n",
              "      <td>45903</td>\n",
              "      <td>222718</td>\n",
              "    </tr>\n",
              "    <tr>\n",
              "      <th>7</th>\n",
              "      <td>Thompson</td>\n",
              "      <td>58</td>\n",
              "      <td>Male</td>\n",
              "      <td>London</td>\n",
              "      <td>12844</td>\n",
              "      <td>136904</td>\n",
              "    </tr>\n",
              "    <tr>\n",
              "      <th>8</th>\n",
              "      <td>Smith</td>\n",
              "      <td>69</td>\n",
              "      <td>Female</td>\n",
              "      <td>Barcelona</td>\n",
              "      <td>37795</td>\n",
              "      <td>150488</td>\n",
              "    </tr>\n",
              "    <tr>\n",
              "      <th>9</th>\n",
              "      <td>Smith</td>\n",
              "      <td>20</td>\n",
              "      <td>Male</td>\n",
              "      <td>Tokyo</td>\n",
              "      <td>43525</td>\n",
              "      <td>184605</td>\n",
              "    </tr>\n",
              "    <tr>\n",
              "      <th>10</th>\n",
              "      <td>Williams</td>\n",
              "      <td>47</td>\n",
              "      <td>Female</td>\n",
              "      <td>Paris</td>\n",
              "      <td>31879</td>\n",
              "      <td>137981</td>\n",
              "    </tr>\n",
              "    <tr>\n",
              "      <th>11</th>\n",
              "      <td>Williams</td>\n",
              "      <td>25</td>\n",
              "      <td>Male</td>\n",
              "      <td>Sydney</td>\n",
              "      <td>12659</td>\n",
              "      <td>28928</td>\n",
              "    </tr>\n",
              "    <tr>\n",
              "      <th>12</th>\n",
              "      <td>Sullivan</td>\n",
              "      <td>34</td>\n",
              "      <td>Female</td>\n",
              "      <td>Barcelona</td>\n",
              "      <td>49455</td>\n",
              "      <td>217958</td>\n",
              "    </tr>\n",
              "    <tr>\n",
              "      <th>13</th>\n",
              "      <td>Jones</td>\n",
              "      <td>77</td>\n",
              "      <td>Female</td>\n",
              "      <td>Sydney</td>\n",
              "      <td>19093</td>\n",
              "      <td>102469</td>\n",
              "    </tr>\n",
              "    <tr>\n",
              "      <th>14</th>\n",
              "      <td>Thompson</td>\n",
              "      <td>29</td>\n",
              "      <td>Male</td>\n",
              "      <td>New York</td>\n",
              "      <td>43743</td>\n",
              "      <td>206686</td>\n",
              "    </tr>\n",
              "    <tr>\n",
              "      <th>15</th>\n",
              "      <td>Brown</td>\n",
              "      <td>39</td>\n",
              "      <td>Male</td>\n",
              "      <td>New York</td>\n",
              "      <td>8213</td>\n",
              "      <td>110370</td>\n",
              "    </tr>\n",
              "    <tr>\n",
              "      <th>16</th>\n",
              "      <td>Thompson</td>\n",
              "      <td>63</td>\n",
              "      <td>Male</td>\n",
              "      <td>New York</td>\n",
              "      <td>16213</td>\n",
              "      <td>58615</td>\n",
              "    </tr>\n",
              "    <tr>\n",
              "      <th>17</th>\n",
              "      <td>Sullivan</td>\n",
              "      <td>67</td>\n",
              "      <td>Male</td>\n",
              "      <td>Sydney</td>\n",
              "      <td>23862</td>\n",
              "      <td>128299</td>\n",
              "    </tr>\n",
              "    <tr>\n",
              "      <th>18</th>\n",
              "      <td>Williams</td>\n",
              "      <td>55</td>\n",
              "      <td>Male</td>\n",
              "      <td>Tokyo</td>\n",
              "      <td>11722</td>\n",
              "      <td>31278</td>\n",
              "    </tr>\n",
              "    <tr>\n",
              "      <th>19</th>\n",
              "      <td>Jones</td>\n",
              "      <td>30</td>\n",
              "      <td>Female</td>\n",
              "      <td>London</td>\n",
              "      <td>44226</td>\n",
              "      <td>239107</td>\n",
              "    </tr>\n",
              "  </tbody>\n",
              "</table>\n",
              "</div>\n",
              "    <div class=\"colab-df-buttons\">\n",
              "\n",
              "  <div class=\"colab-df-container\">\n",
              "    <button class=\"colab-df-convert\" onclick=\"convertToInteractive('df-1313682f-49f8-4d49-b525-42f7da63a179')\"\n",
              "            title=\"Convert this dataframe to an interactive table.\"\n",
              "            style=\"display:none;\">\n",
              "\n",
              "  <svg xmlns=\"http://www.w3.org/2000/svg\" height=\"24px\" viewBox=\"0 -960 960 960\">\n",
              "    <path d=\"M120-120v-720h720v720H120Zm60-500h600v-160H180v160Zm220 220h160v-160H400v160Zm0 220h160v-160H400v160ZM180-400h160v-160H180v160Zm440 0h160v-160H620v160ZM180-180h160v-160H180v160Zm440 0h160v-160H620v160Z\"/>\n",
              "  </svg>\n",
              "    </button>\n",
              "\n",
              "  <style>\n",
              "    .colab-df-container {\n",
              "      display:flex;\n",
              "      gap: 12px;\n",
              "    }\n",
              "\n",
              "    .colab-df-convert {\n",
              "      background-color: #E8F0FE;\n",
              "      border: none;\n",
              "      border-radius: 50%;\n",
              "      cursor: pointer;\n",
              "      display: none;\n",
              "      fill: #1967D2;\n",
              "      height: 32px;\n",
              "      padding: 0 0 0 0;\n",
              "      width: 32px;\n",
              "    }\n",
              "\n",
              "    .colab-df-convert:hover {\n",
              "      background-color: #E2EBFA;\n",
              "      box-shadow: 0px 1px 2px rgba(60, 64, 67, 0.3), 0px 1px 3px 1px rgba(60, 64, 67, 0.15);\n",
              "      fill: #174EA6;\n",
              "    }\n",
              "\n",
              "    .colab-df-buttons div {\n",
              "      margin-bottom: 4px;\n",
              "    }\n",
              "\n",
              "    [theme=dark] .colab-df-convert {\n",
              "      background-color: #3B4455;\n",
              "      fill: #D2E3FC;\n",
              "    }\n",
              "\n",
              "    [theme=dark] .colab-df-convert:hover {\n",
              "      background-color: #434B5C;\n",
              "      box-shadow: 0px 1px 3px 1px rgba(0, 0, 0, 0.15);\n",
              "      filter: drop-shadow(0px 1px 2px rgba(0, 0, 0, 0.3));\n",
              "      fill: #FFFFFF;\n",
              "    }\n",
              "  </style>\n",
              "\n",
              "    <script>\n",
              "      const buttonEl =\n",
              "        document.querySelector('#df-1313682f-49f8-4d49-b525-42f7da63a179 button.colab-df-convert');\n",
              "      buttonEl.style.display =\n",
              "        google.colab.kernel.accessAllowed ? 'block' : 'none';\n",
              "\n",
              "      async function convertToInteractive(key) {\n",
              "        const element = document.querySelector('#df-1313682f-49f8-4d49-b525-42f7da63a179');\n",
              "        const dataTable =\n",
              "          await google.colab.kernel.invokeFunction('convertToInteractive',\n",
              "                                                    [key], {});\n",
              "        if (!dataTable) return;\n",
              "\n",
              "        const docLinkHtml = 'Like what you see? Visit the ' +\n",
              "          '<a target=\"_blank\" href=https://colab.research.google.com/notebooks/data_table.ipynb>data table notebook</a>'\n",
              "          + ' to learn more about interactive tables.';\n",
              "        element.innerHTML = '';\n",
              "        dataTable['output_type'] = 'display_data';\n",
              "        await google.colab.output.renderOutput(dataTable, element);\n",
              "        const docLink = document.createElement('div');\n",
              "        docLink.innerHTML = docLinkHtml;\n",
              "        element.appendChild(docLink);\n",
              "      }\n",
              "    </script>\n",
              "  </div>\n",
              "\n",
              "\n",
              "<div id=\"df-de9180ad-b004-47e0-8981-ffd0d2f83a07\">\n",
              "  <button class=\"colab-df-quickchart\" onclick=\"quickchart('df-de9180ad-b004-47e0-8981-ffd0d2f83a07')\"\n",
              "            title=\"Suggest charts.\"\n",
              "            style=\"display:none;\">\n",
              "\n",
              "<svg xmlns=\"http://www.w3.org/2000/svg\" height=\"24px\"viewBox=\"0 0 24 24\"\n",
              "     width=\"24px\">\n",
              "    <g>\n",
              "        <path d=\"M19 3H5c-1.1 0-2 .9-2 2v14c0 1.1.9 2 2 2h14c1.1 0 2-.9 2-2V5c0-1.1-.9-2-2-2zM9 17H7v-7h2v7zm4 0h-2V7h2v10zm4 0h-2v-4h2v4z\"/>\n",
              "    </g>\n",
              "</svg>\n",
              "  </button>\n",
              "\n",
              "<style>\n",
              "  .colab-df-quickchart {\n",
              "      --bg-color: #E8F0FE;\n",
              "      --fill-color: #1967D2;\n",
              "      --hover-bg-color: #E2EBFA;\n",
              "      --hover-fill-color: #174EA6;\n",
              "      --disabled-fill-color: #AAA;\n",
              "      --disabled-bg-color: #DDD;\n",
              "  }\n",
              "\n",
              "  [theme=dark] .colab-df-quickchart {\n",
              "      --bg-color: #3B4455;\n",
              "      --fill-color: #D2E3FC;\n",
              "      --hover-bg-color: #434B5C;\n",
              "      --hover-fill-color: #FFFFFF;\n",
              "      --disabled-bg-color: #3B4455;\n",
              "      --disabled-fill-color: #666;\n",
              "  }\n",
              "\n",
              "  .colab-df-quickchart {\n",
              "    background-color: var(--bg-color);\n",
              "    border: none;\n",
              "    border-radius: 50%;\n",
              "    cursor: pointer;\n",
              "    display: none;\n",
              "    fill: var(--fill-color);\n",
              "    height: 32px;\n",
              "    padding: 0;\n",
              "    width: 32px;\n",
              "  }\n",
              "\n",
              "  .colab-df-quickchart:hover {\n",
              "    background-color: var(--hover-bg-color);\n",
              "    box-shadow: 0 1px 2px rgba(60, 64, 67, 0.3), 0 1px 3px 1px rgba(60, 64, 67, 0.15);\n",
              "    fill: var(--button-hover-fill-color);\n",
              "  }\n",
              "\n",
              "  .colab-df-quickchart-complete:disabled,\n",
              "  .colab-df-quickchart-complete:disabled:hover {\n",
              "    background-color: var(--disabled-bg-color);\n",
              "    fill: var(--disabled-fill-color);\n",
              "    box-shadow: none;\n",
              "  }\n",
              "\n",
              "  .colab-df-spinner {\n",
              "    border: 2px solid var(--fill-color);\n",
              "    border-color: transparent;\n",
              "    border-bottom-color: var(--fill-color);\n",
              "    animation:\n",
              "      spin 1s steps(1) infinite;\n",
              "  }\n",
              "\n",
              "  @keyframes spin {\n",
              "    0% {\n",
              "      border-color: transparent;\n",
              "      border-bottom-color: var(--fill-color);\n",
              "      border-left-color: var(--fill-color);\n",
              "    }\n",
              "    20% {\n",
              "      border-color: transparent;\n",
              "      border-left-color: var(--fill-color);\n",
              "      border-top-color: var(--fill-color);\n",
              "    }\n",
              "    30% {\n",
              "      border-color: transparent;\n",
              "      border-left-color: var(--fill-color);\n",
              "      border-top-color: var(--fill-color);\n",
              "      border-right-color: var(--fill-color);\n",
              "    }\n",
              "    40% {\n",
              "      border-color: transparent;\n",
              "      border-right-color: var(--fill-color);\n",
              "      border-top-color: var(--fill-color);\n",
              "    }\n",
              "    60% {\n",
              "      border-color: transparent;\n",
              "      border-right-color: var(--fill-color);\n",
              "    }\n",
              "    80% {\n",
              "      border-color: transparent;\n",
              "      border-right-color: var(--fill-color);\n",
              "      border-bottom-color: var(--fill-color);\n",
              "    }\n",
              "    90% {\n",
              "      border-color: transparent;\n",
              "      border-bottom-color: var(--fill-color);\n",
              "    }\n",
              "  }\n",
              "</style>\n",
              "\n",
              "  <script>\n",
              "    async function quickchart(key) {\n",
              "      const quickchartButtonEl =\n",
              "        document.querySelector('#' + key + ' button');\n",
              "      quickchartButtonEl.disabled = true;  // To prevent multiple clicks.\n",
              "      quickchartButtonEl.classList.add('colab-df-spinner');\n",
              "      try {\n",
              "        const charts = await google.colab.kernel.invokeFunction(\n",
              "            'suggestCharts', [key], {});\n",
              "      } catch (error) {\n",
              "        console.error('Error during call to suggestCharts:', error);\n",
              "      }\n",
              "      quickchartButtonEl.classList.remove('colab-df-spinner');\n",
              "      quickchartButtonEl.classList.add('colab-df-quickchart-complete');\n",
              "    }\n",
              "    (() => {\n",
              "      let quickchartButtonEl =\n",
              "        document.querySelector('#df-de9180ad-b004-47e0-8981-ffd0d2f83a07 button');\n",
              "      quickchartButtonEl.style.display =\n",
              "        google.colab.kernel.accessAllowed ? 'block' : 'none';\n",
              "    })();\n",
              "  </script>\n",
              "</div>\n",
              "    </div>\n",
              "  </div>\n"
            ]
          },
          "metadata": {},
          "execution_count": 4
        }
      ],
      "source": [
        "import pandas as pd\n",
        "import numpy as np\n",
        "\n",
        "# Set the random seed for reproducibility\n",
        "np.random.seed(8)\n",
        "\n",
        "# Define number of rows\n",
        "ROWS = 1000\n",
        "\n",
        "# Generate random values for each variable\n",
        "lastname = np.random.choice(['Smith', 'Jones', 'Brown', 'Thompson', 'Sullivan', 'Williams', 'Johnson'], size=ROWS)\n",
        "age = np.random.choice(np.arange(18, 80), size=ROWS)\n",
        "gender = np.random.choice(['Male', 'Female'], size=ROWS)\n",
        "city = np.random.choice(['New York', 'Paris', 'London', 'Tokyo', 'Sydney', 'Barcelona'], size=ROWS)\n",
        "salary = np.random.choice(np.arange(1000, 50000), size=ROWS)\n",
        "income = salary * 5 + np.random.normal(1000, 30000, size=ROWS)\n",
        "\n",
        "# Create a DataFrame with the generated data\n",
        "df = pd.DataFrame({\n",
        "    'lastname': lastname,\n",
        "    'age': age,\n",
        "    'gender': gender,\n",
        "    'city': city,\n",
        "    'salary': salary,\n",
        "    'income': income.astype(int)\n",
        "})\n",
        "\n",
        "df.head(20)"
      ]
    },
    {
      "cell_type": "markdown",
      "id": "c665f74f",
      "metadata": {
        "id": "c665f74f"
      },
      "source": [
        "#### Data Summary\n",
        "\n",
        "This will display the first few rows of the dataset, giving you a quick overview of its structure."
      ]
    },
    {
      "cell_type": "code",
      "execution_count": null,
      "id": "68ab434b",
      "metadata": {
        "id": "68ab434b",
        "outputId": "5eea191a-7bcb-46a2-f2c7-c91a6bc88d80"
      },
      "outputs": [
        {
          "data": {
            "text/html": [
              "<div>\n",
              "<style scoped>\n",
              "    .dataframe tbody tr th:only-of-type {\n",
              "        vertical-align: middle;\n",
              "    }\n",
              "\n",
              "    .dataframe tbody tr th {\n",
              "        vertical-align: top;\n",
              "    }\n",
              "\n",
              "    .dataframe thead th {\n",
              "        text-align: right;\n",
              "    }\n",
              "</style>\n",
              "<table border=\"1\" class=\"dataframe\">\n",
              "  <thead>\n",
              "    <tr style=\"text-align: right;\">\n",
              "      <th></th>\n",
              "      <th>lastname</th>\n",
              "      <th>age</th>\n",
              "      <th>gender</th>\n",
              "      <th>city</th>\n",
              "      <th>salary</th>\n",
              "      <th>income</th>\n",
              "    </tr>\n",
              "  </thead>\n",
              "  <tbody>\n",
              "    <tr>\n",
              "      <th>0</th>\n",
              "      <td>Thompson</td>\n",
              "      <td>19</td>\n",
              "      <td>Female</td>\n",
              "      <td>Sydney</td>\n",
              "      <td>28345</td>\n",
              "      <td>142546</td>\n",
              "    </tr>\n",
              "    <tr>\n",
              "      <th>1</th>\n",
              "      <td>Sullivan</td>\n",
              "      <td>76</td>\n",
              "      <td>Female</td>\n",
              "      <td>Barcelona</td>\n",
              "      <td>3966</td>\n",
              "      <td>59164</td>\n",
              "    </tr>\n",
              "    <tr>\n",
              "      <th>2</th>\n",
              "      <td>Jones</td>\n",
              "      <td>35</td>\n",
              "      <td>Male</td>\n",
              "      <td>Barcelona</td>\n",
              "      <td>7518</td>\n",
              "      <td>27428</td>\n",
              "    </tr>\n",
              "    <tr>\n",
              "      <th>3</th>\n",
              "      <td>Jones</td>\n",
              "      <td>41</td>\n",
              "      <td>Male</td>\n",
              "      <td>Paris</td>\n",
              "      <td>28769</td>\n",
              "      <td>156367</td>\n",
              "    </tr>\n",
              "    <tr>\n",
              "      <th>4</th>\n",
              "      <td>Williams</td>\n",
              "      <td>48</td>\n",
              "      <td>Male</td>\n",
              "      <td>Paris</td>\n",
              "      <td>13292</td>\n",
              "      <td>58500</td>\n",
              "    </tr>\n",
              "  </tbody>\n",
              "</table>\n",
              "</div>"
            ],
            "text/plain": [
              "   lastname  age  gender       city  salary  income\n",
              "0  Thompson   19  Female     Sydney   28345  142546\n",
              "1  Sullivan   76  Female  Barcelona    3966   59164\n",
              "2     Jones   35    Male  Barcelona    7518   27428\n",
              "3     Jones   41    Male      Paris   28769  156367\n",
              "4  Williams   48    Male      Paris   13292   58500"
            ]
          },
          "execution_count": 2,
          "metadata": {},
          "output_type": "execute_result"
        }
      ],
      "source": [
        "df.head()"
      ]
    },
    {
      "cell_type": "markdown",
      "id": "3d62087d",
      "metadata": {
        "id": "3d62087d"
      },
      "source": [
        "#### Descriptive Statistics\n",
        "\n",
        "This will provide summary statistics for **numerical columns** such as count, mean, standard deviation, minimum, and maximum values."
      ]
    },
    {
      "cell_type": "code",
      "execution_count": null,
      "id": "ec52831c",
      "metadata": {
        "id": "ec52831c",
        "outputId": "38e6a09f-d251-4edb-f031-b0a099d68ace"
      },
      "outputs": [
        {
          "data": {
            "text/html": [
              "<div>\n",
              "<style scoped>\n",
              "    .dataframe tbody tr th:only-of-type {\n",
              "        vertical-align: middle;\n",
              "    }\n",
              "\n",
              "    .dataframe tbody tr th {\n",
              "        vertical-align: top;\n",
              "    }\n",
              "\n",
              "    .dataframe thead th {\n",
              "        text-align: right;\n",
              "    }\n",
              "</style>\n",
              "<table border=\"1\" class=\"dataframe\">\n",
              "  <thead>\n",
              "    <tr style=\"text-align: right;\">\n",
              "      <th></th>\n",
              "      <th>age</th>\n",
              "      <th>salary</th>\n",
              "      <th>income</th>\n",
              "    </tr>\n",
              "  </thead>\n",
              "  <tbody>\n",
              "    <tr>\n",
              "      <th>count</th>\n",
              "      <td>1000.000000</td>\n",
              "      <td>1000.000000</td>\n",
              "      <td>1000.000000</td>\n",
              "    </tr>\n",
              "    <tr>\n",
              "      <th>mean</th>\n",
              "      <td>48.051000</td>\n",
              "      <td>24123.207000</td>\n",
              "      <td>120463.560000</td>\n",
              "    </tr>\n",
              "    <tr>\n",
              "      <th>std</th>\n",
              "      <td>17.748843</td>\n",
              "      <td>14130.308155</td>\n",
              "      <td>75685.417199</td>\n",
              "    </tr>\n",
              "    <tr>\n",
              "      <th>min</th>\n",
              "      <td>18.000000</td>\n",
              "      <td>1040.000000</td>\n",
              "      <td>-83246.000000</td>\n",
              "    </tr>\n",
              "    <tr>\n",
              "      <th>25%</th>\n",
              "      <td>33.000000</td>\n",
              "      <td>11794.500000</td>\n",
              "      <td>60016.750000</td>\n",
              "    </tr>\n",
              "    <tr>\n",
              "      <th>50%</th>\n",
              "      <td>48.000000</td>\n",
              "      <td>23256.500000</td>\n",
              "      <td>121025.500000</td>\n",
              "    </tr>\n",
              "    <tr>\n",
              "      <th>75%</th>\n",
              "      <td>63.000000</td>\n",
              "      <td>36503.500000</td>\n",
              "      <td>182060.000000</td>\n",
              "    </tr>\n",
              "    <tr>\n",
              "      <th>max</th>\n",
              "      <td>79.000000</td>\n",
              "      <td>49998.000000</td>\n",
              "      <td>331136.000000</td>\n",
              "    </tr>\n",
              "  </tbody>\n",
              "</table>\n",
              "</div>"
            ],
            "text/plain": [
              "               age        salary         income\n",
              "count  1000.000000   1000.000000    1000.000000\n",
              "mean     48.051000  24123.207000  120463.560000\n",
              "std      17.748843  14130.308155   75685.417199\n",
              "min      18.000000   1040.000000  -83246.000000\n",
              "25%      33.000000  11794.500000   60016.750000\n",
              "50%      48.000000  23256.500000  121025.500000\n",
              "75%      63.000000  36503.500000  182060.000000\n",
              "max      79.000000  49998.000000  331136.000000"
            ]
          },
          "execution_count": 3,
          "metadata": {},
          "output_type": "execute_result"
        }
      ],
      "source": [
        "df.describe()"
      ]
    },
    {
      "cell_type": "markdown",
      "id": "d1e1acb5",
      "metadata": {
        "id": "d1e1acb5"
      },
      "source": [
        "#### Data Types\n",
        "\n",
        "It displays the data types of each column in the dataset, helping you understand the nature of the data."
      ]
    },
    {
      "cell_type": "code",
      "execution_count": null,
      "id": "4829c375",
      "metadata": {
        "id": "4829c375",
        "outputId": "ba1fa36c-3d75-4344-e16f-e9086e71b9cf"
      },
      "outputs": [
        {
          "data": {
            "text/plain": [
              "lastname    object\n",
              "age          int32\n",
              "gender      object\n",
              "city        object\n",
              "salary       int32\n",
              "income       int32\n",
              "dtype: object"
            ]
          },
          "execution_count": 4,
          "metadata": {},
          "output_type": "execute_result"
        }
      ],
      "source": [
        "df.dtypes"
      ]
    },
    {
      "cell_type": "markdown",
      "id": "f787fa05",
      "metadata": {
        "id": "f787fa05"
      },
      "source": [
        "#### Data Shape\n",
        "It shows the number of rows and columns in the dataset, giving you an idea of its size."
      ]
    },
    {
      "cell_type": "code",
      "execution_count": null,
      "id": "e58b4c82",
      "metadata": {
        "id": "e58b4c82",
        "outputId": "8eca1108-2e45-46bb-b147-805066912da1"
      },
      "outputs": [
        {
          "data": {
            "text/plain": [
              "(1000, 6)"
            ]
          },
          "execution_count": 5,
          "metadata": {},
          "output_type": "execute_result"
        }
      ],
      "source": [
        "df.shape"
      ]
    },
    {
      "cell_type": "markdown",
      "id": "870817b2",
      "metadata": {
        "id": "870817b2"
      },
      "source": [
        "#### Count of Categorical Variables\n",
        "\n",
        "This counts the occurrences of each unique value in a categorical variable (in this case, the 'Gender' column)."
      ]
    },
    {
      "cell_type": "code",
      "execution_count": null,
      "id": "6e09af07",
      "metadata": {
        "id": "6e09af07",
        "outputId": "4bd4abe8-4384-46ca-e1d6-1c102378d86e",
        "colab": {
          "base_uri": "https://localhost:8080/"
        }
      },
      "outputs": [
        {
          "output_type": "execute_result",
          "data": {
            "text/plain": [
              "Jones       155\n",
              "Thompson    152\n",
              "Brown       150\n",
              "Johnson     145\n",
              "Williams    140\n",
              "Sullivan    133\n",
              "Smith       125\n",
              "Name: lastname, dtype: int64"
            ]
          },
          "metadata": {},
          "execution_count": 5
        }
      ],
      "source": [
        "df['lastname'].value_counts()"
      ]
    },
    {
      "cell_type": "markdown",
      "id": "5444621e",
      "metadata": {
        "id": "5444621e"
      },
      "source": [
        "#### Histogram\n",
        "\n",
        "Histograms provide a visual representation of the distribution of a numerical variable (in this case, the 'Age' column)"
      ]
    },
    {
      "cell_type": "code",
      "execution_count": null,
      "id": "92ad0602",
      "metadata": {
        "id": "92ad0602",
        "outputId": "049f507a-f397-4e4b-8807-8f5c3ba11117",
        "colab": {
          "base_uri": "https://localhost:8080/",
          "height": 453
        }
      },
      "outputs": [
        {
          "output_type": "display_data",
          "data": {
            "text/plain": [
              "<Figure size 640x480 with 1 Axes>"
            ],
            "image/png": "[encoded data removed]"
          },
          "metadata": {}
        }
      ],
      "source": [
        "import matplotlib.pyplot as plt\n",
        "\n",
        "plt.hist(df['age'], bins=10)\n",
        "plt.xlabel('age')\n",
        "plt.ylabel('Count')\n",
        "plt.show()"
      ]
    },
    {
      "cell_type": "markdown",
      "id": "af6b3bf9",
      "metadata": {
        "id": "af6b3bf9"
      },
      "source": [
        "#### Bar Chart\n",
        "\n",
        "Bar charts are useful for comparing categories and their corresponding values (in this case, comparing 'City' and 'Income' values)"
      ]
    },
    {
      "cell_type": "code",
      "execution_count": null,
      "id": "19e909b6",
      "metadata": {
        "id": "19e909b6",
        "outputId": "94968453-8f18-417d-f994-42eaa3782b86"
      },
      "outputs": [
        {
          "data": {
            "image/png": "[encoded data removed]",
            "text/plain": [
              "<Figure size 432x288 with 1 Axes>"
            ]
          },
          "metadata": {
            "needs_background": "light"
          },
          "output_type": "display_data"
        }
      ],
      "source": [
        "plt.bar(df['city'], df['income'])\n",
        "plt.xlabel('city')\n",
        "plt.ylabel('income')\n",
        "plt.xticks(rotation=45)\n",
        "plt.show()"
      ]
    },
    {
      "cell_type": "markdown",
      "id": "1fa48815",
      "metadata": {
        "id": "1fa48815"
      },
      "source": [
        "#### Scatter Plot\n",
        "\n",
        "Scatter plots help visualize the relationship between two numerical variables"
      ]
    },
    {
      "cell_type": "code",
      "execution_count": null,
      "id": "dfdd76c2",
      "metadata": {
        "id": "dfdd76c2",
        "outputId": "e6ec6498-e6a5-41ef-9570-8a034b8d097f",
        "colab": {
          "base_uri": "https://localhost:8080/",
          "height": 449
        }
      },
      "outputs": [
        {
          "output_type": "display_data",
          "data": {
            "text/plain": [
              "<Figure size 640x480 with 1 Axes>"
            ],
            "image/png": "[encoded data removed]"
          },
          "metadata": {}
        }
      ],
      "source": [
        "plt.scatter(df['age'], df['salary'])\n",
        "plt.xlabel('age')\n",
        "plt.ylabel('salary')\n",
        "plt.show()"
      ]
    },
    {
      "cell_type": "markdown",
      "id": "b33a0beb",
      "metadata": {
        "id": "b33a0beb"
      },
      "source": [
        "#### Correlation\n",
        "\n",
        "Correlation is a statistical measure that determines the strength and direction of the relationship between two or more variables. It quantifies the extent to which changes in one variable are associated with changes in another variable. Correlation analysis helps us understand the pattern and nature of the relationship between variables, allowing us to make predictions and draw conclusions."
      ]
    },
    {
      "cell_type": "code",
      "source": [
        "# Importing our libraries\n",
        "import matplotlib.pyplot as plt\n",
        "import numpy as np\n",
        "import pandas as pd\n",
        "import seaborn as sns\n",
        "import warnings\n",
        "warnings.filterwarnings(\"ignore\")\n",
        "\n",
        "# Let's calculate the correlations\n",
        "df2 = df[['age', 'salary', 'income']]\n",
        "df_corr = df2.corr()\n",
        "\n",
        "# Plot correlations\n",
        "# Remove upper triangle\n",
        "fig, ax = plt.subplots(figsize=(14,8))\n",
        "ax = sns.heatmap(df_corr, annot = True)"
      ],
      "metadata": {
        "colab": {
          "base_uri": "https://localhost:8080/",
          "height": 682
        },
        "id": "sJMHQpy-drBc",
        "outputId": "53b11929-9466-4f5a-83bc-135626e676f3"
      },
      "id": "sJMHQpy-drBc",
      "execution_count": null,
      "outputs": [
        {
          "output_type": "display_data",
          "data": {
            "text/plain": [
              "<Figure size 1400x800 with 2 Axes>"
            ],
            "image/png": "[encoded data removed]"
          },
          "metadata": {}
        }
      ]
    },
    {
      "cell_type": "code",
      "execution_count": null,
      "id": "0d62d8e6",
      "metadata": {
        "id": "0d62d8e6",
        "outputId": "f13ba3b5-1c11-4d21-ca29-4a544d54de6e",
        "colab": {
          "base_uri": "https://localhost:8080/",
          "height": 676
        }
      },
      "outputs": [
        {
          "output_type": "display_data",
          "data": {
            "text/plain": [
              "<Figure size 1400x800 with 2 Axes>"
            ],
            "image/png": "[encoded data removed]"
          },
          "metadata": {}
        }
      ],
      "source": [
        "# Importing our libraries\n",
        "import matplotlib.pyplot as plt\n",
        "import numpy as np\n",
        "import pandas as pd\n",
        "import seaborn as sns\n",
        "import warnings\n",
        "warnings.filterwarnings(\"ignore\")\n",
        "\n",
        "# Let's calculate the correlations\n",
        "df2 = df[['age', 'salary', 'income']]\n",
        "df_corr = df2.corr()\n",
        "\n",
        "# Plot correlations\n",
        "# Remove upper triangle\n",
        "fig, ax = plt.subplots(figsize=(14,8))\n",
        "mask = np.zeros_like(df_corr, dtype=np.bool)\n",
        "mask[np.triu_indices_from(mask)] = True\n",
        "ax = sns.heatmap(df_corr, mask = mask, annot = True)"
      ]
    },
    {
      "cell_type": "markdown",
      "id": "af521597",
      "metadata": {
        "id": "af521597"
      },
      "source": [
        "#### Boxplot\n",
        "\n",
        "A boxplot, also known as a box-and-whisker plot, is a standardized way of displaying the distribution of a continuous variable through five summary statistics: minimum, first quartile (Q1), median (Q2), third quartile (Q3), and maximum. It provides a visual representation of the range, central tendency, and spread of the data"
      ]
    },
    {
      "cell_type": "code",
      "execution_count": null,
      "id": "2d1794b4",
      "metadata": {
        "id": "2d1794b4",
        "outputId": "59dda59b-46cd-46bf-fed9-1b8f851b719c"
      },
      "outputs": [
        {
          "data": {
            "image/png": "[encoded data removed]",
            "text/plain": [
              "<Figure size 432x288 with 1 Axes>"
            ]
          },
          "metadata": {
            "needs_background": "light"
          },
          "output_type": "display_data"
        }
      ],
      "source": [
        "import seaborn as sns\n",
        "import matplotlib.pyplot as plt\n",
        "\n",
        "# Plotting boxplot using seaborn\n",
        "sns.boxplot(data=df, x='gender', y='income')\n",
        "plt.title('Boxplot of Income by Gender')\n",
        "plt.xlabel('Gender')\n",
        "plt.ylabel('Income')\n",
        "plt.show()"
      ]
    },
    {
      "cell_type": "markdown",
      "id": "cd9caa95",
      "metadata": {
        "id": "cd9caa95"
      },
      "source": [
        "# 2. Visualization libraries\n"
      ]
    },
    {
      "cell_type": "markdown",
      "id": "cb70fea5",
      "metadata": {
        "id": "cb70fea5"
      },
      "source": [
        "Knowing different visualization libraries, such as seaborn, plotly, and matplotlib, is important for several reasons:\n",
        "\n",
        "* **Diverse Capabilities:** Each visualization library offers a unique set of features, functionalities, and plot types. By familiarizing yourself with multiple libraries, you gain access to a wider range of visualization techniques. This allows you to choose the most appropriate library for a specific task or dataset and create visualizations that effectively communicate the desired information.\n",
        "\n",
        "* **Flexibility and Customization:** Different libraries provide various customization options, enabling you to tailor your visualizations to specific needs. Some libraries offer interactive plots, while others focus on static visualizations. Understanding multiple libraries empowers you to select the one that best suits your requirements and provides the desired level of interactivity, aesthetics, and customization.\n",
        "\n",
        "* **Community and Support:** Popular visualization libraries like seaborn, plotly, and matplotlib have vibrant user communities. Being familiar with these libraries allows you to tap into a vast network of resources, including documentation, tutorials, examples, and online forums. If you encounter challenges or have questions, you are more likely to find support and solutions within these active communities."
      ]
    },
    {
      "cell_type": "code",
      "execution_count": null,
      "id": "7d33653a",
      "metadata": {
        "id": "7d33653a"
      },
      "outputs": [],
      "source": [
        "import pandas as pd\n",
        "\n",
        "# Create a sample dataset\n",
        "data = {\n",
        "    'Name': ['John', 'Alice', 'Bob', 'Lisa', 'Mike', 'Bob', 'Lisa', 'Mike'],\n",
        "    'Age': [25, 32, 18, 41, 29,33, 45, 61],\n",
        "    'Gender': ['Male', 'Female', 'Male', 'Female', 'Male', 'Male', 'Female', 'Male'],\n",
        "    'City': ['New York', 'Paris', 'London', 'Tokyo', 'Sydney', 'Barcelona', 'Paris', 'London'],\n",
        "    'Salary': [50000, 65000, 40000, 80000, 55000, 65000, 40000, 80000]\n",
        "}\n",
        "\n",
        "df = pd.DataFrame(data)"
      ]
    },
    {
      "cell_type": "markdown",
      "id": "06610a5c",
      "metadata": {
        "id": "06610a5c"
      },
      "source": [
        "## Matplotlib\n",
        "Matplotlib is a widely used data visualization library in Python and serves as the foundation for many other libraries. It provides a comprehensive set of tools for creating static, animated, and interactive plots. Matplotlib offers a versatile range of plot types, from basic line plots and scatter plots to complex visualizations like histograms, pie charts, and contour plots. It gives users fine-grained control over every aspect of a plot, enabling customization of colors, labels, annotations, and more. Matplotlib is highly flexible and widely used for generating publication-quality visualizations."
      ]
    },
    {
      "cell_type": "code",
      "execution_count": null,
      "id": "b189adbe",
      "metadata": {
        "id": "b189adbe",
        "outputId": "d66cc929-3ab3-4180-968a-f388b2f1a5c5"
      },
      "outputs": [
        {
          "data": {
            "image/png": "[encoded data removed]",
            "text/plain": [
              "<Figure size 432x288 with 1 Axes>"
            ]
          },
          "metadata": {
            "needs_background": "light"
          },
          "output_type": "display_data"
        }
      ],
      "source": [
        "import matplotlib.pyplot as plt\n",
        "\n",
        "# Plotting histogram using matplotlib\n",
        "plt.hist(df['Age'], bins=10)\n",
        "plt.xlabel('Age')\n",
        "plt.ylabel('Frequency')\n",
        "plt.title('Histogram of Age using Matplotlib')\n",
        "plt.show()"
      ]
    },
    {
      "cell_type": "markdown",
      "id": "a0071052",
      "metadata": {
        "id": "a0071052"
      },
      "source": [
        "## Plotly\n",
        "Plotly is a powerful and interactive visualization library that supports both Python and JavaScript. It provides an open-source graphing library (Plotly.py) along with a web-based platform for creating and sharing visualizations (Plotly Dash). Plotly offers a rich set of chart types, including scatter plots, line plots, bar plots, box plots, 3D plots, maps, and more. One of the key strengths of Plotly is its interactivity, allowing users to hover over data points, zoom in/out, and dynamically update visualizations. Plotly visualizations can be embedded in web applications or exported as standalone HTML files."
      ]
    },
    {
      "cell_type": "code",
      "execution_count": null,
      "id": "55c40140",
      "metadata": {
        "id": "55c40140",
        "outputId": "8078196e-259c-417c-d0df-a5a5d4b9180c",
        "colab": {
          "base_uri": "https://localhost:8080/",
          "height": 542
        }
      },
      "outputs": [
        {
          "output_type": "display_data",
          "data": {
            "text/html": [
              "<html>\n",
              "<head><meta charset=\"utf-8\" /></head>\n",
              "<body>\n",
              "    <div>            <script src=\"https://cdnjs.cloudflare.com/ajax/libs/mathjax/2.7.5/MathJax.js?config=TeX-AMS-MML_SVG\"></script><script type=\"text/javascript\">if (window.MathJax && window.MathJax.Hub && window.MathJax.Hub.Config) {window.MathJax.Hub.Config({SVG: {font: \"STIX-Web\"}});}</script>                <script type=\"text/javascript\">window.PlotlyConfig = {MathJaxConfig: 'local'};</script>\n",
              "        <script charset=\"utf-8\" src=\"https://cdn.plot.ly/plotly-2.24.1.min.js\"></script>                <div id=\"5cb77fa9-e87d-49f0-94e5-ea111c7ae03d\" class=\"plotly-graph-div\" style=\"height:525px; width:100%;\"></div>            <script type=\"text/javascript\">                                    window.PLOTLYENV=window.PLOTLYENV || {};                                    if (document.getElementById(\"5cb77fa9-e87d-49f0-94e5-ea111c7ae03d\")) {                    Plotly.newPlot(                        \"5cb77fa9-e87d-49f0-94e5-ea111c7ae03d\",                        [{\"alignmentgroup\":\"True\",\"bingroup\":\"x\",\"hovertemplate\":\"Age=%{x}\\u003cbr\\u003ecount=%{y}\\u003cextra\\u003e\\u003c\\u002fextra\\u003e\",\"legendgroup\":\"\",\"marker\":{\"color\":\"#636efa\",\"pattern\":{\"shape\":\"\"}},\"name\":\"\",\"nbinsx\":10,\"offsetgroup\":\"\",\"orientation\":\"v\",\"showlegend\":false,\"x\":[25,32,18,41,29,33,45,61],\"xaxis\":\"x\",\"yaxis\":\"y\",\"type\":\"histogram\"}],                        {\"template\":{\"data\":{\"histogram2dcontour\":[{\"type\":\"histogram2dcontour\",\"colorbar\":{\"outlinewidth\":0,\"ticks\":\"\"},\"colorscale\":[[0.0,\"#0d0887\"],[0.1111111111111111,\"#46039f\"],[0.2222222222222222,\"#7201a8\"],[0.3333333333333333,\"#9c179e\"],[0.4444444444444444,\"#bd3786\"],[0.5555555555555556,\"#d8576b\"],[0.6666666666666666,\"#ed7953\"],[0.7777777777777778,\"#fb9f3a\"],[0.8888888888888888,\"#fdca26\"],[1.0,\"#f0f921\"]]}],\"choropleth\":[{\"type\":\"choropleth\",\"colorbar\":{\"outlinewidth\":0,\"ticks\":\"\"}}],\"histogram2d\":[{\"type\":\"histogram2d\",\"colorbar\":{\"outlinewidth\":0,\"ticks\":\"\"},\"colorscale\":[[0.0,\"#0d0887\"],[0.1111111111111111,\"#46039f\"],[0.2222222222222222,\"#7201a8\"],[0.3333333333333333,\"#9c179e\"],[0.4444444444444444,\"#bd3786\"],[0.5555555555555556,\"#d8576b\"],[0.6666666666666666,\"#ed7953\"],[0.7777777777777778,\"#fb9f3a\"],[0.8888888888888888,\"#fdca26\"],[1.0,\"#f0f921\"]]}],\"heatmap\":[{\"type\":\"heatmap\",\"colorbar\":{\"outlinewidth\":0,\"ticks\":\"\"},\"colorscale\":[[0.0,\"#0d0887\"],[0.1111111111111111,\"#46039f\"],[0.2222222222222222,\"#7201a8\"],[0.3333333333333333,\"#9c179e\"],[0.4444444444444444,\"#bd3786\"],[0.5555555555555556,\"#d8576b\"],[0.6666666666666666,\"#ed7953\"],[0.7777777777777778,\"#fb9f3a\"],[0.8888888888888888,\"#fdca26\"],[1.0,\"#f0f921\"]]}],\"heatmapgl\":[{\"type\":\"heatmapgl\",\"colorbar\":{\"outlinewidth\":0,\"ticks\":\"\"},\"colorscale\":[[0.0,\"#0d0887\"],[0.1111111111111111,\"#46039f\"],[0.2222222222222222,\"#7201a8\"],[0.3333333333333333,\"#9c179e\"],[0.4444444444444444,\"#bd3786\"],[0.5555555555555556,\"#d8576b\"],[0.6666666666666666,\"#ed7953\"],[0.7777777777777778,\"#fb9f3a\"],[0.8888888888888888,\"#fdca26\"],[1.0,\"#f0f921\"]]}],\"contourcarpet\":[{\"type\":\"contourcarpet\",\"colorbar\":{\"outlinewidth\":0,\"ticks\":\"\"}}],\"contour\":[{\"type\":\"contour\",\"colorbar\":{\"outlinewidth\":0,\"ticks\":\"\"},\"colorscale\":[[0.0,\"#0d0887\"],[0.1111111111111111,\"#46039f\"],[0.2222222222222222,\"#7201a8\"],[0.3333333333333333,\"#9c179e\"],[0.4444444444444444,\"#bd3786\"],[0.5555555555555556,\"#d8576b\"],[0.6666666666666666,\"#ed7953\"],[0.7777777777777778,\"#fb9f3a\"],[0.8888888888888888,\"#fdca26\"],[1.0,\"#f0f921\"]]}],\"surface\":[{\"type\":\"surface\",\"colorbar\":{\"outlinewidth\":0,\"ticks\":\"\"},\"colorscale\":[[0.0,\"#0d0887\"],[0.1111111111111111,\"#46039f\"],[0.2222222222222222,\"#7201a8\"],[0.3333333333333333,\"#9c179e\"],[0.4444444444444444,\"#bd3786\"],[0.5555555555555556,\"#d8576b\"],[0.6666666666666666,\"#ed7953\"],[0.7777777777777778,\"#fb9f3a\"],[0.8888888888888888,\"#fdca26\"],[1.0,\"#f0f921\"]]}],\"mesh3d\":[{\"type\":\"mesh3d\",\"colorbar\":{\"outlinewidth\":0,\"ticks\":\"\"}}],\"scatter\":[{\"fillpattern\":{\"fillmode\":\"overlay\",\"size\":10,\"solidity\":0.2},\"type\":\"scatter\"}],\"parcoords\":[{\"type\":\"parcoords\",\"line\":{\"colorbar\":{\"outlinewidth\":0,\"ticks\":\"\"}}}],\"scatterpolargl\":[{\"type\":\"scatterpolargl\",\"marker\":{\"colorbar\":{\"outlinewidth\":0,\"ticks\":\"\"}}}],\"bar\":[{\"error_x\":{\"color\":\"#2a3f5f\"},\"error_y\":{\"color\":\"#2a3f5f\"},\"marker\":{\"line\":{\"color\":\"#E5ECF6\",\"width\":0.5},\"pattern\":{\"fillmode\":\"overlay\",\"size\":10,\"solidity\":0.2}},\"type\":\"bar\"}],\"scattergeo\":[{\"type\":\"scattergeo\",\"marker\":{\"colorbar\":{\"outlinewidth\":0,\"ticks\":\"\"}}}],\"scatterpolar\":[{\"type\":\"scatterpolar\",\"marker\":{\"colorbar\":{\"outlinewidth\":0,\"ticks\":\"\"}}}],\"histogram\":[{\"marker\":{\"pattern\":{\"fillmode\":\"overlay\",\"size\":10,\"solidity\":0.2}},\"type\":\"histogram\"}],\"scattergl\":[{\"type\":\"scattergl\",\"marker\":{\"colorbar\":{\"outlinewidth\":0,\"ticks\":\"\"}}}],\"scatter3d\":[{\"type\":\"scatter3d\",\"line\":{\"colorbar\":{\"outlinewidth\":0,\"ticks\":\"\"}},\"marker\":{\"colorbar\":{\"outlinewidth\":0,\"ticks\":\"\"}}}],\"scattermapbox\":[{\"type\":\"scattermapbox\",\"marker\":{\"colorbar\":{\"outlinewidth\":0,\"ticks\":\"\"}}}],\"scatterternary\":[{\"type\":\"scatterternary\",\"marker\":{\"colorbar\":{\"outlinewidth\":0,\"ticks\":\"\"}}}],\"scattercarpet\":[{\"type\":\"scattercarpet\",\"marker\":{\"colorbar\":{\"outlinewidth\":0,\"ticks\":\"\"}}}],\"carpet\":[{\"aaxis\":{\"endlinecolor\":\"#2a3f5f\",\"gridcolor\":\"white\",\"linecolor\":\"white\",\"minorgridcolor\":\"white\",\"startlinecolor\":\"#2a3f5f\"},\"baxis\":{\"endlinecolor\":\"#2a3f5f\",\"gridcolor\":\"white\",\"linecolor\":\"white\",\"minorgridcolor\":\"white\",\"startlinecolor\":\"#2a3f5f\"},\"type\":\"carpet\"}],\"table\":[{\"cells\":{\"fill\":{\"color\":\"#EBF0F8\"},\"line\":{\"color\":\"white\"}},\"header\":{\"fill\":{\"color\":\"#C8D4E3\"},\"line\":{\"color\":\"white\"}},\"type\":\"table\"}],\"barpolar\":[{\"marker\":{\"line\":{\"color\":\"#E5ECF6\",\"width\":0.5},\"pattern\":{\"fillmode\":\"overlay\",\"size\":10,\"solidity\":0.2}},\"type\":\"barpolar\"}],\"pie\":[{\"automargin\":true,\"type\":\"pie\"}]},\"layout\":{\"autotypenumbers\":\"strict\",\"colorway\":[\"#636efa\",\"#EF553B\",\"#00cc96\",\"#ab63fa\",\"#FFA15A\",\"#19d3f3\",\"#FF6692\",\"#B6E880\",\"#FF97FF\",\"#FECB52\"],\"font\":{\"color\":\"#2a3f5f\"},\"hovermode\":\"closest\",\"hoverlabel\":{\"align\":\"left\"},\"paper_bgcolor\":\"white\",\"plot_bgcolor\":\"#E5ECF6\",\"polar\":{\"bgcolor\":\"#E5ECF6\",\"angularaxis\":{\"gridcolor\":\"white\",\"linecolor\":\"white\",\"ticks\":\"\"},\"radialaxis\":{\"gridcolor\":\"white\",\"linecolor\":\"white\",\"ticks\":\"\"}},\"ternary\":{\"bgcolor\":\"#E5ECF6\",\"aaxis\":{\"gridcolor\":\"white\",\"linecolor\":\"white\",\"ticks\":\"\"},\"baxis\":{\"gridcolor\":\"white\",\"linecolor\":\"white\",\"ticks\":\"\"},\"caxis\":{\"gridcolor\":\"white\",\"linecolor\":\"white\",\"ticks\":\"\"}},\"coloraxis\":{\"colorbar\":{\"outlinewidth\":0,\"ticks\":\"\"}},\"colorscale\":{\"sequential\":[[0.0,\"#0d0887\"],[0.1111111111111111,\"#46039f\"],[0.2222222222222222,\"#7201a8\"],[0.3333333333333333,\"#9c179e\"],[0.4444444444444444,\"#bd3786\"],[0.5555555555555556,\"#d8576b\"],[0.6666666666666666,\"#ed7953\"],[0.7777777777777778,\"#fb9f3a\"],[0.8888888888888888,\"#fdca26\"],[1.0,\"#f0f921\"]],\"sequentialminus\":[[0.0,\"#0d0887\"],[0.1111111111111111,\"#46039f\"],[0.2222222222222222,\"#7201a8\"],[0.3333333333333333,\"#9c179e\"],[0.4444444444444444,\"#bd3786\"],[0.5555555555555556,\"#d8576b\"],[0.6666666666666666,\"#ed7953\"],[0.7777777777777778,\"#fb9f3a\"],[0.8888888888888888,\"#fdca26\"],[1.0,\"#f0f921\"]],\"diverging\":[[0,\"#8e0152\"],[0.1,\"#c51b7d\"],[0.2,\"#de77ae\"],[0.3,\"#f1b6da\"],[0.4,\"#fde0ef\"],[0.5,\"#f7f7f7\"],[0.6,\"#e6f5d0\"],[0.7,\"#b8e186\"],[0.8,\"#7fbc41\"],[0.9,\"#4d9221\"],[1,\"#276419\"]]},\"xaxis\":{\"gridcolor\":\"white\",\"linecolor\":\"white\",\"ticks\":\"\",\"title\":{\"standoff\":15},\"zerolinecolor\":\"white\",\"automargin\":true,\"zerolinewidth\":2},\"yaxis\":{\"gridcolor\":\"white\",\"linecolor\":\"white\",\"ticks\":\"\",\"title\":{\"standoff\":15},\"zerolinecolor\":\"white\",\"automargin\":true,\"zerolinewidth\":2},\"scene\":{\"xaxis\":{\"backgroundcolor\":\"#E5ECF6\",\"gridcolor\":\"white\",\"linecolor\":\"white\",\"showbackground\":true,\"ticks\":\"\",\"zerolinecolor\":\"white\",\"gridwidth\":2},\"yaxis\":{\"backgroundcolor\":\"#E5ECF6\",\"gridcolor\":\"white\",\"linecolor\":\"white\",\"showbackground\":true,\"ticks\":\"\",\"zerolinecolor\":\"white\",\"gridwidth\":2},\"zaxis\":{\"backgroundcolor\":\"#E5ECF6\",\"gridcolor\":\"white\",\"linecolor\":\"white\",\"showbackground\":true,\"ticks\":\"\",\"zerolinecolor\":\"white\",\"gridwidth\":2}},\"shapedefaults\":{\"line\":{\"color\":\"#2a3f5f\"}},\"annotationdefaults\":{\"arrowcolor\":\"#2a3f5f\",\"arrowhead\":0,\"arrowwidth\":1},\"geo\":{\"bgcolor\":\"white\",\"landcolor\":\"#E5ECF6\",\"subunitcolor\":\"white\",\"showland\":true,\"showlakes\":true,\"lakecolor\":\"white\"},\"title\":{\"x\":0.05},\"mapbox\":{\"style\":\"light\"}}},\"xaxis\":{\"anchor\":\"y\",\"domain\":[0.0,1.0],\"title\":{\"text\":\"Age\"}},\"yaxis\":{\"anchor\":\"x\",\"domain\":[0.0,1.0],\"title\":{\"text\":\"count\"}},\"legend\":{\"tracegroupgap\":0},\"title\":{\"text\":\"Histogram of Age using Plotly\"},\"barmode\":\"relative\"},                        {\"responsive\": true}                    ).then(function(){\n",
              "                            \n",
              "var gd = document.getElementById('5cb77fa9-e87d-49f0-94e5-ea111c7ae03d');\n",
              "var x = new MutationObserver(function (mutations, observer) {{\n",
              "        var display = window.getComputedStyle(gd).display;\n",
              "        if (!display || display === 'none') {{\n",
              "            console.log([gd, 'removed!']);\n",
              "            Plotly.purge(gd);\n",
              "            observer.disconnect();\n",
              "        }}\n",
              "}});\n",
              "\n",
              "// Listen for the removal of the full notebook cells\n",
              "var notebookContainer = gd.closest('#notebook-container');\n",
              "if (notebookContainer) {{\n",
              "    x.observe(notebookContainer, {childList: true});\n",
              "}}\n",
              "\n",
              "// Listen for the clearing of the current output cell\n",
              "var outputEl = gd.closest('.output');\n",
              "if (outputEl) {{\n",
              "    x.observe(outputEl, {childList: true});\n",
              "}}\n",
              "\n",
              "                        })                };                            </script>        </div>\n",
              "</body>\n",
              "</html>"
            ]
          },
          "metadata": {}
        }
      ],
      "source": [
        "import plotly.express as px\n",
        "\n",
        "# Plotting histogram using plotly\n",
        "fig = px.histogram(df, x='Age', nbins=10, title='Histogram of Age using Plotly')\n",
        "fig.show()"
      ]
    },
    {
      "cell_type": "markdown",
      "id": "32915ca1",
      "metadata": {
        "id": "32915ca1"
      },
      "source": [
        "## Seaborn\n",
        "Seaborn is a Python library built on top of matplotlib. It provides a high-level interface for creating informative and visually appealing statistical graphics. Seaborn focuses on enhancing the aesthetics and clarity of visualizations while simplifying the code required to generate them. It offers a wide range of plot types, including scatter plots, line plots, bar plots, box plots, and more. Seaborn also supports advanced statistical visualizations like heatmaps, pair plots, and violin plots. It is particularly useful for exploratory data analysis and data visualization in statistical modeling."
      ]
    },
    {
      "cell_type": "code",
      "execution_count": null,
      "id": "cee0c65b",
      "metadata": {
        "id": "cee0c65b",
        "outputId": "540ba7a5-3ec4-4051-af17-f58e7da3b7c9"
      },
      "outputs": [
        {
          "data": {
            "image/png": "[encoded data removed]",
            "text/plain": [
              "<Figure size 432x288 with 1 Axes>"
            ]
          },
          "metadata": {
            "needs_background": "light"
          },
          "output_type": "display_data"
        }
      ],
      "source": [
        "import seaborn as sns\n",
        "import matplotlib.pyplot as plt\n",
        "\n",
        "# Plotting histogram using seaborn\n",
        "sns.histplot(data=df, x='Age', kde=True)\n",
        "plt.title('Histogram of Age using Seaborn')\n",
        "plt.show()"
      ]
    },
    {
      "cell_type": "markdown",
      "id": "4791ef56",
      "metadata": {
        "id": "4791ef56"
      },
      "source": [
        "## Exercise\n",
        "\n",
        "Given the following dataset, create a plot (using the 3 libraries seen) to answer each question:\n",
        "\n",
        "* Which is the distribution of students per degree?\n",
        "* What range of salaries could we expect by degree?\n",
        "* Is there any relation between cost of the degree and expected salary?"
      ]
    },
    {
      "cell_type": "code",
      "execution_count": null,
      "id": "13eab1ee",
      "metadata": {
        "id": "13eab1ee",
        "outputId": "d4aa42ec-c06b-4795-ae2f-129da2c3f23b",
        "colab": {
          "base_uri": "https://localhost:8080/",
          "height": 206
        }
      },
      "outputs": [
        {
          "output_type": "execute_result",
          "data": {
            "text/plain": [
              "      degree      city          cost  num_students  expected_salary\n",
              "0  sociology  Shanghai  20045.977972            27            83150\n",
              "1    history    London  40274.738863            32            72746\n",
              "2  economics        NY  48956.891961            29            43791\n",
              "3  economics    London  45421.969126            21            68702\n",
              "4  economics  Shanghai   5670.185610            27            51391"
            ],
            "text/html": [
              "\n",
              "  <div id=\"df-5534abe3-6af8-44a7-9ae9-203e416c1470\" class=\"colab-df-container\">\n",
              "    <div>\n",
              "<style scoped>\n",
              "    .dataframe tbody tr th:only-of-type {\n",
              "        vertical-align: middle;\n",
              "    }\n",
              "\n",
              "    .dataframe tbody tr th {\n",
              "        vertical-align: top;\n",
              "    }\n",
              "\n",
              "    .dataframe thead th {\n",
              "        text-align: right;\n",
              "    }\n",
              "</style>\n",
              "<table border=\"1\" class=\"dataframe\">\n",
              "  <thead>\n",
              "    <tr style=\"text-align: right;\">\n",
              "      <th></th>\n",
              "      <th>degree</th>\n",
              "      <th>city</th>\n",
              "      <th>cost</th>\n",
              "      <th>num_students</th>\n",
              "      <th>expected_salary</th>\n",
              "    </tr>\n",
              "  </thead>\n",
              "  <tbody>\n",
              "    <tr>\n",
              "      <th>0</th>\n",
              "      <td>sociology</td>\n",
              "      <td>Shanghai</td>\n",
              "      <td>20045.977972</td>\n",
              "      <td>27</td>\n",
              "      <td>83150</td>\n",
              "    </tr>\n",
              "    <tr>\n",
              "      <th>1</th>\n",
              "      <td>history</td>\n",
              "      <td>London</td>\n",
              "      <td>40274.738863</td>\n",
              "      <td>32</td>\n",
              "      <td>72746</td>\n",
              "    </tr>\n",
              "    <tr>\n",
              "      <th>2</th>\n",
              "      <td>economics</td>\n",
              "      <td>NY</td>\n",
              "      <td>48956.891961</td>\n",
              "      <td>29</td>\n",
              "      <td>43791</td>\n",
              "    </tr>\n",
              "    <tr>\n",
              "      <th>3</th>\n",
              "      <td>economics</td>\n",
              "      <td>London</td>\n",
              "      <td>45421.969126</td>\n",
              "      <td>21</td>\n",
              "      <td>68702</td>\n",
              "    </tr>\n",
              "    <tr>\n",
              "      <th>4</th>\n",
              "      <td>economics</td>\n",
              "      <td>Shanghai</td>\n",
              "      <td>5670.185610</td>\n",
              "      <td>27</td>\n",
              "      <td>51391</td>\n",
              "    </tr>\n",
              "  </tbody>\n",
              "</table>\n",
              "</div>\n",
              "    <div class=\"colab-df-buttons\">\n",
              "\n",
              "  <div class=\"colab-df-container\">\n",
              "    <button class=\"colab-df-convert\" onclick=\"convertToInteractive('df-5534abe3-6af8-44a7-9ae9-203e416c1470')\"\n",
              "            title=\"Convert this dataframe to an interactive table.\"\n",
              "            style=\"display:none;\">\n",
              "\n",
              "  <svg xmlns=\"http://www.w3.org/2000/svg\" height=\"24px\" viewBox=\"0 -960 960 960\">\n",
              "    <path d=\"M120-120v-720h720v720H120Zm60-500h600v-160H180v160Zm220 220h160v-160H400v160Zm0 220h160v-160H400v160ZM180-400h160v-160H180v160Zm440 0h160v-160H620v160ZM180-180h160v-160H180v160Zm440 0h160v-160H620v160Z\"/>\n",
              "  </svg>\n",
              "    </button>\n",
              "\n",
              "  <style>\n",
              "    .colab-df-container {\n",
              "      display:flex;\n",
              "      gap: 12px;\n",
              "    }\n",
              "\n",
              "    .colab-df-convert {\n",
              "      background-color: #E8F0FE;\n",
              "      border: none;\n",
              "      border-radius: 50%;\n",
              "      cursor: pointer;\n",
              "      display: none;\n",
              "      fill: #1967D2;\n",
              "      height: 32px;\n",
              "      padding: 0 0 0 0;\n",
              "      width: 32px;\n",
              "    }\n",
              "\n",
              "    .colab-df-convert:hover {\n",
              "      background-color: #E2EBFA;\n",
              "      box-shadow: 0px 1px 2px rgba(60, 64, 67, 0.3), 0px 1px 3px 1px rgba(60, 64, 67, 0.15);\n",
              "      fill: #174EA6;\n",
              "    }\n",
              "\n",
              "    .colab-df-buttons div {\n",
              "      margin-bottom: 4px;\n",
              "    }\n",
              "\n",
              "    [theme=dark] .colab-df-convert {\n",
              "      background-color: #3B4455;\n",
              "      fill: #D2E3FC;\n",
              "    }\n",
              "\n",
              "    [theme=dark] .colab-df-convert:hover {\n",
              "      background-color: #434B5C;\n",
              "      box-shadow: 0px 1px 3px 1px rgba(0, 0, 0, 0.15);\n",
              "      filter: drop-shadow(0px 1px 2px rgba(0, 0, 0, 0.3));\n",
              "      fill: #FFFFFF;\n",
              "    }\n",
              "  </style>\n",
              "\n",
              "    <script>\n",
              "      const buttonEl =\n",
              "        document.querySelector('#df-5534abe3-6af8-44a7-9ae9-203e416c1470 button.colab-df-convert');\n",
              "      buttonEl.style.display =\n",
              "        google.colab.kernel.accessAllowed ? 'block' : 'none';\n",
              "\n",
              "      async function convertToInteractive(key) {\n",
              "        const element = document.querySelector('#df-5534abe3-6af8-44a7-9ae9-203e416c1470');\n",
              "        const dataTable =\n",
              "          await google.colab.kernel.invokeFunction('convertToInteractive',\n",
              "                                                    [key], {});\n",
              "        if (!dataTable) return;\n",
              "\n",
              "        const docLinkHtml = 'Like what you see? Visit the ' +\n",
              "          '<a target=\"_blank\" href=https://colab.research.google.com/notebooks/data_table.ipynb>data table notebook</a>'\n",
              "          + ' to learn more about interactive tables.';\n",
              "        element.innerHTML = '';\n",
              "        dataTable['output_type'] = 'display_data';\n",
              "        await google.colab.output.renderOutput(dataTable, element);\n",
              "        const docLink = document.createElement('div');\n",
              "        docLink.innerHTML = docLinkHtml;\n",
              "        element.appendChild(docLink);\n",
              "      }\n",
              "    </script>\n",
              "  </div>\n",
              "\n",
              "\n",
              "<div id=\"df-c0286139-ff67-40fc-8b83-37e234a88fe5\">\n",
              "  <button class=\"colab-df-quickchart\" onclick=\"quickchart('df-c0286139-ff67-40fc-8b83-37e234a88fe5')\"\n",
              "            title=\"Suggest charts.\"\n",
              "            style=\"display:none;\">\n",
              "\n",
              "<svg xmlns=\"http://www.w3.org/2000/svg\" height=\"24px\"viewBox=\"0 0 24 24\"\n",
              "     width=\"24px\">\n",
              "    <g>\n",
              "        <path d=\"M19 3H5c-1.1 0-2 .9-2 2v14c0 1.1.9 2 2 2h14c1.1 0 2-.9 2-2V5c0-1.1-.9-2-2-2zM9 17H7v-7h2v7zm4 0h-2V7h2v10zm4 0h-2v-4h2v4z\"/>\n",
              "    </g>\n",
              "</svg>\n",
              "  </button>\n",
              "\n",
              "<style>\n",
              "  .colab-df-quickchart {\n",
              "      --bg-color: #E8F0FE;\n",
              "      --fill-color: #1967D2;\n",
              "      --hover-bg-color: #E2EBFA;\n",
              "      --hover-fill-color: #174EA6;\n",
              "      --disabled-fill-color: #AAA;\n",
              "      --disabled-bg-color: #DDD;\n",
              "  }\n",
              "\n",
              "  [theme=dark] .colab-df-quickchart {\n",
              "      --bg-color: #3B4455;\n",
              "      --fill-color: #D2E3FC;\n",
              "      --hover-bg-color: #434B5C;\n",
              "      --hover-fill-color: #FFFFFF;\n",
              "      --disabled-bg-color: #3B4455;\n",
              "      --disabled-fill-color: #666;\n",
              "  }\n",
              "\n",
              "  .colab-df-quickchart {\n",
              "    background-color: var(--bg-color);\n",
              "    border: none;\n",
              "    border-radius: 50%;\n",
              "    cursor: pointer;\n",
              "    display: none;\n",
              "    fill: var(--fill-color);\n",
              "    height: 32px;\n",
              "    padding: 0;\n",
              "    width: 32px;\n",
              "  }\n",
              "\n",
              "  .colab-df-quickchart:hover {\n",
              "    background-color: var(--hover-bg-color);\n",
              "    box-shadow: 0 1px 2px rgba(60, 64, 67, 0.3), 0 1px 3px 1px rgba(60, 64, 67, 0.15);\n",
              "    fill: var(--button-hover-fill-color);\n",
              "  }\n",
              "\n",
              "  .colab-df-quickchart-complete:disabled,\n",
              "  .colab-df-quickchart-complete:disabled:hover {\n",
              "    background-color: var(--disabled-bg-color);\n",
              "    fill: var(--disabled-fill-color);\n",
              "    box-shadow: none;\n",
              "  }\n",
              "\n",
              "  .colab-df-spinner {\n",
              "    border: 2px solid var(--fill-color);\n",
              "    border-color: transparent;\n",
              "    border-bottom-color: var(--fill-color);\n",
              "    animation:\n",
              "      spin 1s steps(1) infinite;\n",
              "  }\n",
              "\n",
              "  @keyframes spin {\n",
              "    0% {\n",
              "      border-color: transparent;\n",
              "      border-bottom-color: var(--fill-color);\n",
              "      border-left-color: var(--fill-color);\n",
              "    }\n",
              "    20% {\n",
              "      border-color: transparent;\n",
              "      border-left-color: var(--fill-color);\n",
              "      border-top-color: var(--fill-color);\n",
              "    }\n",
              "    30% {\n",
              "      border-color: transparent;\n",
              "      border-left-color: var(--fill-color);\n",
              "      border-top-color: var(--fill-color);\n",
              "      border-right-color: var(--fill-color);\n",
              "    }\n",
              "    40% {\n",
              "      border-color: transparent;\n",
              "      border-right-color: var(--fill-color);\n",
              "      border-top-color: var(--fill-color);\n",
              "    }\n",
              "    60% {\n",
              "      border-color: transparent;\n",
              "      border-right-color: var(--fill-color);\n",
              "    }\n",
              "    80% {\n",
              "      border-color: transparent;\n",
              "      border-right-color: var(--fill-color);\n",
              "      border-bottom-color: var(--fill-color);\n",
              "    }\n",
              "    90% {\n",
              "      border-color: transparent;\n",
              "      border-bottom-color: var(--fill-color);\n",
              "    }\n",
              "  }\n",
              "</style>\n",
              "\n",
              "  <script>\n",
              "    async function quickchart(key) {\n",
              "      const quickchartButtonEl =\n",
              "        document.querySelector('#' + key + ' button');\n",
              "      quickchartButtonEl.disabled = true;  // To prevent multiple clicks.\n",
              "      quickchartButtonEl.classList.add('colab-df-spinner');\n",
              "      try {\n",
              "        const charts = await google.colab.kernel.invokeFunction(\n",
              "            'suggestCharts', [key], {});\n",
              "      } catch (error) {\n",
              "        console.error('Error during call to suggestCharts:', error);\n",
              "      }\n",
              "      quickchartButtonEl.classList.remove('colab-df-spinner');\n",
              "      quickchartButtonEl.classList.add('colab-df-quickchart-complete');\n",
              "    }\n",
              "    (() => {\n",
              "      let quickchartButtonEl =\n",
              "        document.querySelector('#df-c0286139-ff67-40fc-8b83-37e234a88fe5 button');\n",
              "      quickchartButtonEl.style.display =\n",
              "        google.colab.kernel.accessAllowed ? 'block' : 'none';\n",
              "    })();\n",
              "  </script>\n",
              "</div>\n",
              "    </div>\n",
              "  </div>\n"
            ]
          },
          "metadata": {},
          "execution_count": 16
        }
      ],
      "source": [
        "import pandas as pd\n",
        "import numpy as np\n",
        "\n",
        "# Set the random seed for reproducibility\n",
        "np.random.seed(8)\n",
        "\n",
        "# Define the degree and city lists\n",
        "degree_list = ['history', 'economics', 'data science', 'sociology']\n",
        "city_list = ['NY', 'London', 'Barcelona', 'Paris', 'Shanghai']\n",
        "\n",
        "# Define the corresponding costs for each city\n",
        "city_costs = {'NY': 50000, 'London': 40000, 'Barcelona': 30000, 'Paris': 20000, 'Shanghai': 10000}\n",
        "\n",
        "# Generate random values for each feature\n",
        "degree = np.random.choice(degree_list, size=1000)\n",
        "city = np.random.choice(city_list, size=1000)\n",
        "cost_noise = np.random.normal(0, 5000, size=1000)  # Random noise with mean 0 and standard deviation 5000\n",
        "cost = [city_costs[c] + noise for c, noise in zip(city, cost_noise)]\n",
        "num_students = np.random.randint(20, 51, size=1000)\n",
        "expected_salary = []\n",
        "\n",
        "for deg in degree:\n",
        "    if deg == 'history':\n",
        "        salary = np.random.randint(30000, 100001)\n",
        "    elif deg == 'economics':\n",
        "        salary = np.random.randint(40000, 110001)\n",
        "    elif deg == 'data science':\n",
        "        salary = np.random.randint(60000, 130001)\n",
        "    else:  # sociology\n",
        "        salary = np.random.randint(35000, 95001)\n",
        "    expected_salary.append(salary)\n",
        "\n",
        "# Create a DataFrame with the generated data\n",
        "df = pd.DataFrame({\n",
        "    'degree': degree,\n",
        "    'city': city,\n",
        "    'cost': cost,\n",
        "    'num_students': num_students,\n",
        "    'expected_salary': expected_salary\n",
        "})\n",
        "\n",
        "df.head()"
      ]
    },
    {
      "cell_type": "markdown",
      "id": "d1fda5d3",
      "metadata": {
        "id": "d1fda5d3"
      },
      "source": [
        "**Solution**:\n",
        "\n",
        "Which is the distribution of students per degree?"
      ]
    },
    {
      "cell_type": "markdown",
      "id": "f256fd97",
      "metadata": {
        "id": "f256fd97"
      },
      "source": [
        "What range of salaries could we expect by degree?"
      ]
    },
    {
      "cell_type": "markdown",
      "id": "338c729e",
      "metadata": {
        "id": "338c729e"
      },
      "source": [
        "Is there any relation between cost of the degree and expected salary?"
      ]
    }
  ],
  "metadata": {
    "kernelspec": {
      "display_name": "Python 3 (ipykernel)",
      "language": "python",
      "name": "python3"
    },
    "language_info": {
      "codemirror_mode": {
        "name": "ipython",
        "version": 3
      },
      "file_extension": ".py",
      "mimetype": "text/x-python",
      "name": "python",
      "nbconvert_exporter": "python",
      "pygments_lexer": "ipython3",
      "version": "3.9.12"
    },
    "colab": {
      "provenance": [],
      "include_colab_link": true
    }
  },
  "nbformat": 4,
  "nbformat_minor": 5
}